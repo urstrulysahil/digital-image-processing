{
 "cells": [
  {
   "cell_type": "code",
   "execution_count": 1,
   "id": "793b412f",
   "metadata": {},
   "outputs": [],
   "source": [
    "import cv2\n",
    "image = cv2.imread('Lena.png')\n",
    "cv2.imshow('Original Image', image)\n",
    "cv2.waitKey(0)\n",
    "cv2.destroyAllWindows()"
   ]
  },
  {
   "cell_type": "code",
   "execution_count": 2,
   "id": "50739a78",
   "metadata": {},
   "outputs": [],
   "source": [
    "#Converting image into grayscale\n",
    "\n",
    "gray_lena = cv2.imread(\"Lena.png\",0)\n",
    "cv2.imshow(\"Grayscale Image\", gray_lena)\n",
    "cv2.waitKey(0)\n",
    "cv2.destroyAllWindows()"
   ]
  },
  {
   "cell_type": "code",
   "execution_count": null,
   "id": "df726fa2",
   "metadata": {},
   "outputs": [],
   "source": [
    "import numpy as np\n",
    "\n",
    "def bilinear_interpolation_scaling(img, scale_factor):\n",
    "    # Get the dimensions of the new image\n",
    "    new_height, new_width = int(img.shape[0]*scale_factor), int(img.shape[1]*scale_factor)\n",
    "    # Create an empty image with the new dimensions\n",
    "    new_img = np.zeros((new_height, new_width), dtype=np.uint8)\n",
    "\n",
    "    for y in range(new_height):\n",
    "        for x in range(new_width):\n",
    "            # Calculate the corresponding coordinates in the original image\n",
    "            orig_x, orig_y = x/scale_factor, y/scale_factor\n",
    "            # Get the coordinates of the 4 nearest pixels in the original image\n",
    "            x1, y1 = int(orig_x), int(orig_y)\n",
    "            x2, y2 = min(int(orig_x+1),int(orig_x)) , int(orig_y)\n",
    "            x3, y3 = int(orig_x), min(int(orig_y+1) , int(orig_y))\n",
    "            x4, y4 = min(int(orig_x+1),int(orig_x)) , min(int(orig_y+1),int(orig_y))\n",
    "            # Check if the coordinates are within the boundaries of the original image\n",
    "            if x1 >= img.shape[1] or y1 >= img.shape[0]:\n",
    "                continue\n",
    "            if x2 >= img.shape[1]:\n",
    "                x2 = x1\n",
    "            if y2 >= img.shape[0]:\n",
    "                y2 = y1\n",
    "\n",
    "            # Use bilinear interpolation to calculate the pixel value\n",
    "            p1 = img[y1][x1]\n",
    "            p2 = img[y2][x2]\n",
    "            p3 = img[y3][x3]\n",
    "            p4 = img[y4][x4]\n",
    "            a = orig_x - x1\n",
    "            b = orig_y - y1\n",
    "            new_img[y][x] = (1-b)*((1-a)*p1 + a*p2) + b*((1-a)*p3 + a*p4)\n",
    "\n",
    "    return new_img\n",
    "\n",
    "# Scale the image by factors 1, 2, and 0.5\n",
    "P1 = bilinear_interpolation_scaling(gray_lena, 1)\n",
    "cv2.imshow('Scaled_image1',P1)\n",
    "\n",
    "P2 = bilinear_interpolation_scaling(gray_lena, 2)\n",
    "cv2.imshow('Scaled_image2',P2)\n",
    "\n",
    "P3 = bilinear_interpolation_scaling(gray_lena, 0.5)\n",
    "cv2.imshow('Scaled_image3',P3)\n",
    "\n",
    "cv2.waitKey(0)\n",
    "cv2.destroyAllWindows()\n"
   ]
  },
  {
   "cell_type": "code",
   "execution_count": 21,
   "id": "61f9cf81",
   "metadata": {},
   "outputs": [],
   "source": [
    "# Scaling it by factors of 1,2,0.5 using inbuilt bilinear interpolation\n",
    "\n",
    "P4 = cv2.resize(gray_lena,None,fx=1, fy=1, interpolation =cv2.INTER_LINEAR)\n",
    "cv2.imshow(\"Scaled_image4\",P4)\n",
    "\n",
    "P5 = cv2.resize(gray_lena,None,fx=2, fy=2, interpolation =cv2.INTER_LINEAR)\n",
    "cv2.imshow(\"Scaled_image5\",P5)\n",
    "\n",
    "P6 = cv2.resize(gray_lena,None,fx=0.5, fy=0.5, interpolation =cv2.INTER_LINEAR)\n",
    "cv2.imshow(\"Scaled_image6\",P6)\n",
    "\n",
    "cv2.waitKey(0)\n",
    "cv2.destroyAllWindows()"
   ]
  },
  {
   "cell_type": "code",
   "execution_count": 24,
   "id": "03a055bd",
   "metadata": {},
   "outputs": [
    {
     "name": "stdout",
     "output_type": "stream",
     "text": [
      "Mean Squared Error 1:  0.0\n",
      "Mean Squared Error 2:  7.896763801574707\n",
      "Mean Squared Error 3:  19.248367309570312\n"
     ]
    }
   ],
   "source": [
    "# Comparing the images\n",
    "\n",
    "diff1 = P1 - P4\n",
    "mse = np.mean((diff1)**2)\n",
    "print(\"Mean Squared Error 1: \", mse)\n",
    "\n",
    "diff2 = P2 - P5\n",
    "mse = np.mean((diff2)**2)\n",
    "print(\"Mean Squared Error 2: \", mse)\n",
    "\n",
    "diff3 = P3 - P6\n",
    "mse = np.mean((diff3)**2)\n",
    "print(\"Mean Squared Error 3: \", mse)"
   ]
  },
  {
   "cell_type": "code",
   "execution_count": null,
   "id": "84f922ef",
   "metadata": {},
   "outputs": [],
   "source": []
  }
 ],
 "metadata": {
  "kernelspec": {
   "display_name": "Python 3 (ipykernel)",
   "language": "python",
   "name": "python3"
  },
  "language_info": {
   "codemirror_mode": {
    "name": "ipython",
    "version": 3
   },
   "file_extension": ".py",
   "mimetype": "text/x-python",
   "name": "python",
   "nbconvert_exporter": "python",
   "pygments_lexer": "ipython3",
   "version": "3.10.6"
  },
  "vscode": {
   "interpreter": {
    "hash": "31f2aee4e71d21fbe5cf8b01ff0e069b9275f58929596ceb00d14d90e3e16cd6"
   }
  }
 },
 "nbformat": 4,
 "nbformat_minor": 5
}
