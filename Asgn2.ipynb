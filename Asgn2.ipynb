{
 "cells": [
  {
   "cell_type": "code",
   "execution_count": 3,
   "id": "07c7e390",
   "metadata": {},
   "outputs": [
    {
     "name": "stdout",
     "output_type": "stream",
     "text": [
      "Mean Squared Error:  87.80515670776367\n",
      "Mean Squared Error:  90.27789306640625\n",
      "Mean Squared Error:  90.20413208007812\n",
      "Mean Squared Error:  90.15081787109375\n"
     ]
    }
   ],
   "source": [
    "import cv2\n",
    "import numpy as np\n",
    "from skimage.util import random_noise\n",
    "\n",
    "# Load the original image\n",
    "img = cv2.imread(\"Lena.png\")\n",
    "\n",
    "# Convert the image to grayscale\n",
    "gray = cv2.imread(\"Lena.png\",0)\n",
    "\n",
    "# Number of noisy images to generate\n",
    "n = [5,10,20,30]\n",
    "\n",
    "for i in range(len(n)):\n",
    "    \n",
    "    #List to store noisy images\n",
    "    noisy_images=[]\n",
    "    \n",
    "    for j in range(n[i]):\n",
    "        \n",
    "        # Generate random noise with mean 0 and variance 1\n",
    "        noise = random_noise(gray, mode='gaussian', mean=0, var=1)\n",
    "        noise = np.array(255*noise, dtype = 'uint8')\n",
    "        \n",
    "        # Add the noise to the original image\n",
    "        noisy_img = gray + noise\n",
    "\n",
    "        # Showing the noisy images\n",
    "        #cv2.imshow(\"noisy_image_{}\".format(j+1), noisy_img)\n",
    "        #cv2.waitKey(0)\n",
    "        \n",
    "        # Append the noisy image to the list\n",
    "        noisy_images.append(noisy_img)\n",
    "    \n",
    "    #Calculating avg of the noisy images\n",
    "    avg_img = np.array(img.shape , dtype = np.float32)\n",
    "    avg_img = np.mean(noisy_images, axis=0)\n",
    "    avg_img = np.uint8(avg_img)\n",
    "    cv2.imshow(\"Average of the images\", avg_img)\n",
    "    \n",
    "    #Comparing the result with orginal image\n",
    "    diff = avg_img - gray\n",
    "    mse = np.mean((diff)**2)\n",
    "    print(\"Mean Squared Error: \", mse)\n",
    "\n",
    "    cv2.waitKey(0)    \n",
    "    cv2.destroyAllWindows()\n"
   ]
  },
  {
   "cell_type": "code",
   "execution_count": null,
   "id": "1988ea52",
   "metadata": {},
   "outputs": [],
   "source": []
  }
 ],
 "metadata": {
  "kernelspec": {
   "display_name": "Python 3 (ipykernel)",
   "language": "python",
   "name": "python3"
  },
  "language_info": {
   "codemirror_mode": {
    "name": "ipython",
    "version": 3
   },
   "file_extension": ".py",
   "mimetype": "text/x-python",
   "name": "python",
   "nbconvert_exporter": "python",
   "pygments_lexer": "ipython3",
   "version": "3.10.6"
  }
 },
 "nbformat": 4,
 "nbformat_minor": 5
}
