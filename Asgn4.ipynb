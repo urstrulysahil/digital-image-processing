{
 "cells": [
  {
   "cell_type": "code",
   "execution_count": 1,
   "id": "9546468a",
   "metadata": {},
   "outputs": [
    {
     "name": "stdout",
     "output_type": "stream",
     "text": [
      "Angle of inclination is 1.297787623708186\n"
     ]
    }
   ],
   "source": [
    "import cv2\n",
    "import numpy as np\n",
    "import math\n",
    "\n",
    "# Load the image\n",
    "img = cv2.imread(\"PISA.jpg\")\n",
    "\n",
    "# Convert the image to grayscale\n",
    "gray = cv2.cvtColor(img, cv2.COLOR_BGR2GRAY)\n",
    "\n",
    "# Calculate the gradient magnitude and direction using the Sobel operator\n",
    "sobelx = cv2.Sobel(gray, cv2.CV_64F, 1, 0, ksize=3)\n",
    "sobely = cv2.Sobel(gray, cv2.CV_64F, 0, 1, ksize=3)\n",
    "grad_magnitude = np.sqrt(sobelx**2 + sobely**2)\n",
    "grad_direction = np.arctan2(sobely, sobelx)\n",
    "\n",
    "# Calculate the angle of inclination using the gradient direction\n",
    "angle = np.median(grad_direction[np.nonzero(grad_magnitude)])\n",
    "print('Angle of inclination is ' + str(angle))\n",
    "\n",
    "def rotate_image(img, angle):\n",
    "    rows, cols = img.shape[:2]\n",
    "    rotation_matrix = cv2.getRotationMatrix2D((cols // 2, rows // 2), angle, 1)\n",
    "    rotated_img = cv2.warpAffine(img, rotation_matrix, (cols, rows), flags=cv2.INTER_LINEAR)\n",
    "    return rotated_img\n",
    "\n",
    "# Perform the rotation using the user defined function\n",
    "rotated_user_defined = rotate_image(img, angle * 180 / np.pi)\n",
    "\n",
    "# Perform the rotation using the OpenCV function\n",
    "rotation_matrix = cv2.getRotationMatrix2D((img.shape[1] // 2, img.shape[0] // 2), angle * 180 / np.pi, 1)\n",
    "rotated_opencv = cv2.warpAffine(img, rotation_matrix, (img.shape[1], img.shape[0]), flags=cv2.INTER_LINEAR)\n",
    "\n",
    "# Display the original and rotated images using both methods\n",
    "cv2.imshow(\"Original Image\", img)\n",
    "cv2.imshow(\"Rotated Image (User Defined)\", rotated_user_defined)\n",
    "cv2.imshow(\"Rotated Image (OpenCV)\", rotated_opencv)\n",
    "cv2.waitKey(0)\n",
    "cv2.destroyAllWindows()\n"
   ]
  },
  {
   "cell_type": "code",
   "execution_count": null,
   "id": "eb3c37ba",
   "metadata": {},
   "outputs": [],
   "source": []
  }
 ],
 "metadata": {
  "kernelspec": {
   "display_name": "Python 3 (ipykernel)",
   "language": "python",
   "name": "python3"
  },
  "language_info": {
   "codemirror_mode": {
    "name": "ipython",
    "version": 3
   },
   "file_extension": ".py",
   "mimetype": "text/x-python",
   "name": "python",
   "nbconvert_exporter": "python",
   "pygments_lexer": "ipython3",
   "version": "3.10.6"
  }
 },
 "nbformat": 4,
 "nbformat_minor": 5
}
